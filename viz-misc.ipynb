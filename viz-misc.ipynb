{
 "cells": [
  {
   "cell_type": "code",
   "execution_count": null,
   "metadata": {},
   "outputs": [],
   "source": []
  },
  {
   "cell_type": "code",
   "execution_count": null,
   "metadata": {},
   "outputs": [
    {
     "name": "stdout",
     "output_type": "stream",
     "text": [
      "\"History, Ancient\", \"Historiography\", \"Comparative method\", \"Ancient History\"\n",
      "\"Costume design\", \"Italy\", \"Biography\", \"Fashion designers\"\n",
      "\"Body piercing\", \"History .\"\n",
      "\"Fiction\", \"History\"\n",
      "\"Peinture\", \"Romans, nouvelles, etc. pour la jeunesse\", \"Secret\", \"Painting\", \"Fiction\", \"Secrets\", \"Amitié\", \"Surveillance\", \"Romans\", \"Filature (Surveillance)\"\n",
      "\"Furniture design\", \"Interior decoration\", \"Criticism and interpretation\", \"Interior architecture\", \"History\"\n",
      "\"History\"\n",
      "\"Politics and government\", \"Industrial policy\", \"Economic conditions\", \"Economic policy\", \"History\", \"Industry and state\", \"Economische ontwikkeling\", \"Conditions économiques\", \"Wirtschaftskrise\", \"Politique industrielle\", \"Politique économique\", \"Wirtschaftsentwicklung\", \"Soziales System\", \"Histoire\", \"Politisches System\", \"Politique et gouvernement\", \"Wirtschaftssystem\", \"Economic history\", \"Brazil, economic conditions\"\n",
      "\"Female nude in art\", \"Art\", \"Themes, motives\"\n",
      "\"Astronomy\", \"Study and teaching\", \"History\"\n",
      "\"Prosodic analysis (Linguistics)\", \"Language and emotions\", \"German language\", \"Prosodic analysis\"\n",
      "\"Energy development\", \"Energy policy\", \"Dependency on foreign countries\", \"Civilization\", \"Foreign influences\"\n"
     ]
    }
   ],
   "source": []
  },
  {
   "cell_type": "markdown",
   "metadata": {},
   "source": [
    "# etc"
   ]
  },
  {
   "cell_type": "code",
   "execution_count": null,
   "metadata": {},
   "outputs": [],
   "source": [
    "gen_infos = pd.DataFrame(\n",
    "    [\n",
    "        [\"Total\", 23736988],\n",
    "        [\"Has Cover\", 7430739],\n",
    "        [\"Has Subject\", 14027018],\n",
    "        [\"Has Both\", 4301727]\n",
    "        ], \n",
    "    columns=[\"Name\", \"Book Count\"])"
   ]
  },
  {
   "cell_type": "code",
   "execution_count": null,
   "metadata": {},
   "outputs": [
    {
     "data": {
      "text/html": [
       "<div>\n",
       "<style scoped>\n",
       "    .dataframe tbody tr th:only-of-type {\n",
       "        vertical-align: middle;\n",
       "    }\n",
       "\n",
       "    .dataframe tbody tr th {\n",
       "        vertical-align: top;\n",
       "    }\n",
       "\n",
       "    .dataframe thead th {\n",
       "        text-align: right;\n",
       "    }\n",
       "</style>\n",
       "<table border=\"1\" class=\"dataframe\">\n",
       "  <thead>\n",
       "    <tr style=\"text-align: right;\">\n",
       "      <th></th>\n",
       "      <th>Name</th>\n",
       "      <th>Book Count</th>\n",
       "    </tr>\n",
       "  </thead>\n",
       "  <tbody>\n",
       "    <tr>\n",
       "      <th>0</th>\n",
       "      <td>Total</td>\n",
       "      <td>23736988</td>\n",
       "    </tr>\n",
       "    <tr>\n",
       "      <th>1</th>\n",
       "      <td>Has Cover</td>\n",
       "      <td>7430739</td>\n",
       "    </tr>\n",
       "    <tr>\n",
       "      <th>2</th>\n",
       "      <td>Has Subject</td>\n",
       "      <td>14027018</td>\n",
       "    </tr>\n",
       "    <tr>\n",
       "      <th>3</th>\n",
       "      <td>Has Both</td>\n",
       "      <td>4301727</td>\n",
       "    </tr>\n",
       "  </tbody>\n",
       "</table>\n",
       "</div>"
      ],
      "text/plain": [
       "          Name  Book Count\n",
       "0        Total    23736988\n",
       "1    Has Cover     7430739\n",
       "2  Has Subject    14027018\n",
       "3     Has Both     4301727"
      ]
     },
     "metadata": {},
     "output_type": "display_data"
    }
   ],
   "source": [
    "gen_infos"
   ]
  },
  {
   "cell_type": "code",
   "execution_count": null,
   "metadata": {},
   "outputs": [
    {
     "name": "stderr",
     "output_type": "stream",
     "text": [
      "No handles with labels found to put in legend.\n",
      "/var/folders/fv/mxpj18zs55g_msjbhknhh0t00000gp/T/ipykernel_39709/1081100237.py:9: UserWarning: FixedFormatter should only be used together with FixedLocator\n",
      "  g.set_yticklabels(ylabels)\n"
     ]
    },
    {
     "data": {
      "text/plain": [
       "[Text(0, 0.0, '0M'),\n",
       " Text(0, 5000000.0, '5M'),\n",
       " Text(0, 10000000.0, '10M'),\n",
       " Text(0, 15000000.0, '15M'),\n",
       " Text(0, 20000000.0, '20M'),\n",
       " Text(0, 25000000.0, '25M')]"
      ]
     },
     "metadata": {},
     "output_type": "display_data"
    },
    {
     "data": {
      "image/png": "[encoded data removed]",
      "text/plain": [
       "<Figure size 432x288 with 1 Axes>"
      ]
     },
     "metadata": {},
     "output_type": "display_data"
    },
    {
     "data": {
      "image/png": "[encoded data removed]",
      "text/plain": [
       "<Figure size 576x360 with 1 Axes>"
      ]
     },
     "metadata": {},
     "output_type": "display_data"
    }
   ],
   "source": [
    "sns.set(style=\"darkgrid\")\n",
    "ax = sns.barplot(x=\"Name\", y=\"Book Count\", data=gen_infos)\n",
    "\n",
    "fig, ax = plt.subplots(figsize=(8, 5))    \n",
    "palette = sns.color_palette(\"bright\", 4)\n",
    "g = sns.barplot(x=\"Name\", y=\"Book Count\", data=gen_infos, ax =  ax)\n",
    "g.legend(bbox_to_anchor=(1, 1), ncol=1)\n",
    "ylabels = ['{:,.0f}'.format(x) + 'M' for x in g.get_yticks()/10**6]\n",
    "g.set_yticklabels(ylabels)"
   ]
  }
 ],
 "metadata": {
  "interpreter": {
   "hash": "573805b6bf94dfdb6e23a5ddf9205e43e813018f3ce9b293891b8d65ab8de9da"
  },
  "kernelspec": {
   "display_name": "Python 3.8.5 64-bit ('base': conda)",
   "language": "python",
   "name": "python3"
  },
  "language_info": {
   "name": "python",
   "version": "3.8.5"
  },
  "orig_nbformat": 4
 },
 "nbformat": 4,
 "nbformat_minor": 2
}
